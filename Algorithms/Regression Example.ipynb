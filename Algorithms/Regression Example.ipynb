{
 "cells": [
  {
   "cell_type": "markdown",
   "metadata": {
    "collapsed": true
   },
   "source": [
    "# Regression Algorithm in Machine Learning"
   ]
  },
  {
   "cell_type": "markdown",
   "metadata": {},
   "source": [
    "### Regression is all about taking lots of data and plot graph or space of the data and then we build lines to seprate diffrent types of data throgh line or place... so the whole thing is to draw a lineor curve in case of 2D data and then we can predict future values or can do classification thing too...\n",
    "\n",
    "### So there are 2 types of Regression \n",
    "### 1. Linear regression -- we can draw simple straight line in this case to seprate or predict values\n",
    "### 2. logistic regression -- here we have more than one independent variables that determine outcome.\n",
    "\n",
    "### Here first we discuss Linear Regression and develop a program which will predict stock value of any company"
   ]
  },
  {
   "cell_type": "markdown",
   "metadata": {},
   "source": [
    "## Importing libraries"
   ]
  },
  {
   "cell_type": "code",
   "execution_count": 11,
   "metadata": {},
   "outputs": [],
   "source": [
    "import sklearn\n",
    "import quandl, datetime, math\n",
    "import pandas as pd\n",
    "import numpy as np\n",
    "from sklearn import preprocessing, cross_validation, svm\n",
    "from sklearn.linear_model import LinearRegression\n",
    "import matplotlib.pyplot as plt\n",
    "from matplotlib import style\n",
    "import pickle"
   ]
  },
  {
   "cell_type": "markdown",
   "metadata": {},
   "source": [
    "### We will use googl stock data in order to predict next future value of stock using linear regression"
   ]
  },
  {
   "cell_type": "code",
   "execution_count": 24,
   "metadata": {},
   "outputs": [],
   "source": [
    "df=quandl.get('WIKI/GOOGL')"
   ]
  },
  {
   "cell_type": "markdown",
   "metadata": {},
   "source": [
    "### syle we use for ploting graph uning matplotlib"
   ]
  },
  {
   "cell_type": "code",
   "execution_count": 25,
   "metadata": {},
   "outputs": [],
   "source": [
    "style.use('ggplot')"
   ]
  },
  {
   "cell_type": "markdown",
   "metadata": {},
   "source": [
    "## Refining of usefull data"
   ]
  },
  {
   "cell_type": "code",
   "execution_count": 26,
   "metadata": {},
   "outputs": [],
   "source": [
    "df=df[['Adj. Open','Adj. High','Adj. Low','Adj. Close','Adj. Volume']]\n",
    "df['HL_PCT']=(df['Adj. High']-df['Adj. Low'])/df['Adj. Close']*100.0\n",
    "df['PCT_Change']=(df['Adj. Close']-df['Adj. Open'])/df['Adj. Open']*100.0\n",
    "\n",
    "df=df[['Adj. Close','HL_PCT','PCT_Change','Adj. Volume']]\n"
   ]
  },
  {
   "cell_type": "markdown",
   "metadata": {},
   "source": [
    "## Forcasting data"
   ]
  },
  {
   "cell_type": "code",
   "execution_count": 27,
   "metadata": {},
   "outputs": [],
   "source": [
    "forecast_col='Adj. Close'\n",
    "df.fillna(-99999, inplace=True) #gettin rid of null data\n",
    "\n",
    "forecast_out = int(math.ceil(0.005*len(df)))\n",
    "\n",
    "df['label']=df[forecast_col].shift(-forecast_out)"
   ]
  },
  {
   "cell_type": "markdown",
   "metadata": {},
   "source": [
    "## lets train the model and find accuracy"
   ]
  },
  {
   "cell_type": "code",
   "execution_count": 28,
   "metadata": {},
   "outputs": [],
   "source": [
    "x=np.array(df.drop(['label'],1))\n",
    "x=preprocessing.scale(x)\n",
    "x=x[:-forecast_out]\n",
    "x_lately=x[-forecast_out:]\n",
    "\n",
    "df.dropna(inplace=True)\n",
    "y=np.array(df['label'])\n",
    "\n",
    "X_train, X_test, Y_train, Y_test= cross_validation.train_test_split(x, y, test_size=0.2)\n"
   ]
  },
  {
   "cell_type": "markdown",
   "metadata": {},
   "source": [
    "### finding accuracy as per LinearRegression algo"
   ]
  },
  {
   "cell_type": "code",
   "execution_count": 34,
   "metadata": {},
   "outputs": [],
   "source": [
    "'''clf = LinearRegression(n_jobs=-1)\n",
    "clf.fit(X_train, Y_train)\n",
    "accuracy=clf.score(X_test, Y_test)\n",
    "print(accuracy)\n",
    "\n",
    "with open('Linearregression.pickle','wb') as f:\n",
    "    pickle.dump(clf,f)'''"
   ]
  },
  {
   "cell_type": "markdown",
   "metadata": {},
   "source": [
    "### finding accuracy as per Support vector Regression"
   ]
  },
  {
   "cell_type": "code",
   "execution_count": 35,
   "metadata": {},
   "outputs": [],
   "source": [
    "'''clf = svm.SVR()\n",
    "clf.fit(X_train, Y_train)\n",
    "accuracy=clf.score(X_test, Y_test)\n",
    "print(accuracy)\n",
    "\n",
    "with open('SVR.pickle','wb') as f:\n",
    "    pickle.dump(clf,f)'''"
   ]
  },
  {
   "cell_type": "markdown",
   "metadata": {},
   "source": [
    "#### opps here in SVR we have accuracy about 84 %. Mean while LinearRegression Algorithm is far more better then SVR, so run that Again so that Values will be taken from LinearRegreation in further code for greater accuracy "
   ]
  },
  {
   "cell_type": "markdown",
   "metadata": {},
   "source": [
    "#### The next thing we can do is to store trained data into a pickle file bcz for a large companies like google its not possible to do trainig thing again and again bcz there data can be in TB.. So run taining algo ones and then either comment it or not run it.. and save pickle data using below code."
   ]
  },
  {
   "cell_type": "code",
   "execution_count": 36,
   "metadata": {},
   "outputs": [],
   "source": [
    "pickle_in = open('Linearregression.pickle', 'rb')\n",
    "clf=pickle.load(pickle_in)"
   ]
  },
  {
   "cell_type": "markdown",
   "metadata": {},
   "source": [
    "## lets do forcast thing and draw up graph"
   ]
  },
  {
   "cell_type": "code",
   "execution_count": 37,
   "metadata": {},
   "outputs": [
    {
     "name": "stdout",
     "output_type": "stream",
     "text": [
      "[1076.81541977 1091.7014402  1065.22116539 1013.41902015 1050.81106635\n",
      " 1064.78521194 1064.84234111 1082.55038969 1101.42299358 1106.27288631\n",
      " 1113.76399395 1123.86239555 1120.75633549 1138.86029057 1154.85336227\n",
      " 1128.05609111 1114.4139981  1080.6179591 ] 0.8027926680302047 18\n"
     ]
    }
   ],
   "source": [
    "forecast_set=clf.predict(x_lately)\n",
    "print(forecast_set, accuracy, forecast_out)\n",
    "\n",
    "df['Forecast']=np.nan\n",
    "\n",
    "last_date=df.iloc[-1].name\n",
    "last_unix= last_date.timestamp()\n",
    "one_day= 86400\n",
    "next_unix= last_unix + one_day\n",
    "\n",
    "for i in forecast_set:\n",
    "    next_date = datetime.datetime.fromtimestamp(next_unix)\n",
    "    next_unix += one_day\n",
    "    df.loc[next_date]= [np.nan for _ in range(len(df.columns)-1)]+ [i]\n"
   ]
  },
  {
   "cell_type": "markdown",
   "metadata": {},
   "source": [
    "### lets map whole data on graph"
   ]
  },
  {
   "cell_type": "code",
   "execution_count": 38,
   "metadata": {},
   "outputs": [
    {
     "data": {
      "image/png": "[encoded data removed]",
      "text/plain": [
       "<Figure size 432x288 with 1 Axes>"
      ]
     },
     "metadata": {},
     "output_type": "display_data"
    }
   ],
   "source": [
    "plt.plot(df['Adj. Close'])\n",
    "plt.plot(df['Forecast'])\n",
    "plt.legend(loc=4)\n",
    "plt.xlabel('Date')\n",
    "plt.ylabel('price')\n",
    "plt.show()"
   ]
  },
  {
   "cell_type": "markdown",
   "metadata": {},
   "source": [
    "### now we have graph of future prediction with >98 % accuracy which is really great. Means we are predictting values of stock in next 30 days with >98 % accuracy."
   ]
  },
  {
   "cell_type": "code",
   "execution_count": null,
   "metadata": {},
   "outputs": [],
   "source": []
  }
 ],
 "metadata": {
  "kernelspec": {
   "display_name": "Python 3",
   "language": "python",
   "name": "python3"
  },
  "language_info": {
   "codemirror_mode": {
    "name": "ipython",
    "version": 3
   },
   "file_extension": ".py",
   "mimetype": "text/x-python",
   "name": "python",
   "nbconvert_exporter": "python",
   "pygments_lexer": "ipython3",
   "version": "3.6.5"
  }
 },
 "nbformat": 4,
 "nbformat_minor": 1
}
