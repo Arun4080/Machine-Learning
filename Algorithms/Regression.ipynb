{
 "cells": [
  {
   "cell_type": "markdown",
   "metadata": {
    "collapsed": true
   },
   "source": [
    "# Regression Algorithm in Machine Learning"
   ]
  },
  {
   "cell_type": "markdown",
   "metadata": {},
   "source": [
    "### Regression is all about taking lots of data and plot graph or space of the data and then we build lines to seprate diffrent types of data throgh line or place... so the whole thing is to draw a lineor curve in case of 2D data and then we can predict future values or can do classification thing too...\n",
    "\n",
    "### So there are 2 types of Regression \n",
    "### 1. Linear regression -- we can draw simple straight line in this case to seprate or predict values\n",
    "### 2. logistic regression -- here we have more than one independent variables that determine outcome.\n",
    "\n",
    "### Here first we discuss Linear Regression and develop a program which will predict stock value of any company"
   ]
  },
  {
   "cell_type": "markdown",
   "metadata": {},
   "source": [
    "## Importing libraries"
   ]
  },
  {
   "cell_type": "code",
   "execution_count": 64,
   "metadata": {},
   "outputs": [],
   "source": [
    "import sklearn\n",
    "import quandl, datetime, math\n",
    "import pandas as pd\n",
    "import numpy as np\n",
    "from sklearn import preprocessing, cross_validation, svm\n",
    "from sklearn.linear_model import LinearRegression\n",
    "import matplotlib.pyplot as plt\n",
    "from matplotlib import style"
   ]
  },
  {
   "cell_type": "markdown",
   "metadata": {},
   "source": [
    "### We will use googl stock data in order to predict next future value of stock using linear regression"
   ]
  },
  {
   "cell_type": "code",
   "execution_count": 56,
   "metadata": {},
   "outputs": [],
   "source": [
    "df=quandl.get('WIKI/GOOGL')"
   ]
  },
  {
   "cell_type": "markdown",
   "metadata": {},
   "source": [
    "### syle we use for ploting graph uning matplotlib"
   ]
  },
  {
   "cell_type": "code",
   "execution_count": 57,
   "metadata": {},
   "outputs": [],
   "source": [
    "style.use('ggplot')"
   ]
  },
  {
   "cell_type": "markdown",
   "metadata": {},
   "source": [
    "## Refining of usefull data"
   ]
  },
  {
   "cell_type": "code",
   "execution_count": 58,
   "metadata": {},
   "outputs": [],
   "source": [
    "df=df[['Adj. Open','Adj. High','Adj. Low','Adj. Close','Adj. Volume']]\n",
    "df['HL_PCT']=(df['Adj. High']-df['Adj. Low'])/df['Adj. Close']*100.0\n",
    "df['PCT_Change']=(df['Adj. Close']-df['Adj. Open'])/df['Adj. Open']*100.0\n",
    "\n",
    "df=df[['Adj. Close','HL_PCT','PCT_Change','Adj. Volume']]\n"
   ]
  },
  {
   "cell_type": "markdown",
   "metadata": {},
   "source": [
    "## Forcasting data"
   ]
  },
  {
   "cell_type": "code",
   "execution_count": 59,
   "metadata": {},
   "outputs": [],
   "source": [
    "forecast_col='Adj. Close'\n",
    "df.fillna(-99999, inplace=True) #gettin rid of null data\n",
    "\n",
    "forecast_out = int(math.ceil(0.005*len(df)))\n",
    "\n",
    "df['label']=df[forecast_col].shift(-forecast_out)"
   ]
  },
  {
   "cell_type": "markdown",
   "metadata": {},
   "source": [
    "## lets train the model and find accuracy"
   ]
  },
  {
   "cell_type": "code",
   "execution_count": 60,
   "metadata": {},
   "outputs": [],
   "source": [
    "x=np.array(df.drop(['label'],1))\n",
    "x=preprocessing.scale(x)\n",
    "x=x[:-forecast_out]\n",
    "x_lately=x[-forecast_out:]\n",
    "\n",
    "df.dropna(inplace=True)\n",
    "y=np.array(df['label'])\n",
    "\n",
    "X_train, X_test, Y_train, Y_test= cross_validation.train_test_split(x, y, test_size=0.2)\n"
   ]
  },
  {
   "cell_type": "markdown",
   "metadata": {},
   "source": [
    "### finding accuracy as per LinearRegression algo"
   ]
  },
  {
   "cell_type": "code",
   "execution_count": 61,
   "metadata": {},
   "outputs": [
    {
     "name": "stdout",
     "output_type": "stream",
     "text": [
      "0.9870798084534094\n"
     ]
    }
   ],
   "source": [
    "clf = LinearRegression(n_jobs=-1)\n",
    "clf.fit(X_train, Y_train)\n",
    "accuracy=clf.score(X_test, Y_test)\n",
    "print(accuracy)"
   ]
  },
  {
   "cell_type": "markdown",
   "metadata": {},
   "source": [
    "### finding accuracy as per Support vector Regression"
   ]
  },
  {
   "cell_type": "code",
   "execution_count": 27,
   "metadata": {},
   "outputs": [
    {
     "name": "stdout",
     "output_type": "stream",
     "text": [
      "0.8417856519182547\n"
     ]
    }
   ],
   "source": [
    "clf = svm.SVR()\n",
    "clf.fit(X_train, Y_train)\n",
    "accuracy=clf.score(X_test, Y_test)\n",
    "print(accuracy)"
   ]
  },
  {
   "cell_type": "markdown",
   "metadata": {},
   "source": [
    "#### opps here in SVR we have accuracy about 84 %. Mean while LinearRegression Algorithm is far more better then SVR, so run that Again so that Values will be taken from LinearRegreation in further code for greater accuracy "
   ]
  },
  {
   "cell_type": "markdown",
   "metadata": {},
   "source": [
    "## lets do forcast thing and draw up graph"
   ]
  },
  {
   "cell_type": "code",
   "execution_count": 69,
   "metadata": {},
   "outputs": [
    {
     "name": "stdout",
     "output_type": "stream",
     "text": [
      "[1076.08296982 1090.60812442 1065.11957709 1012.67898246 1049.87159684\n",
      " 1064.83990405 1065.02083267 1082.39076648 1101.30921698 1106.43088869\n",
      " 1113.66430798 1123.74291711 1120.90213272 1138.92947655 1155.0527666\n",
      " 1128.11132502 1114.48265773 1080.27636783] 0.9870798084534094 18\n"
     ]
    }
   ],
   "source": [
    "forecast_set=clf.predict(x_lately)\n",
    "print(forecast_set, accuracy, forecast_out)\n",
    "\n",
    "df['Forecast']=np.nan\n",
    "\n",
    "last_date=df.iloc[-1].name\n",
    "last_unix= last_date.timestamp()\n",
    "one_day= 86400\n",
    "next_unix= last_unix + one_day\n",
    "\n",
    "for i in forecast_set:\n",
    "    next_date = datetime.datetime.fromtimestamp(next_unix)\n",
    "    next_unix += one_day\n",
    "    df.loc[next_date]= [np.nan for _ in range(len(df.columns)-1)]+ [i]\n"
   ]
  },
  {
   "cell_type": "markdown",
   "metadata": {},
   "source": [
    "### lets map whole data on graph"
   ]
  },
  {
   "cell_type": "code",
   "execution_count": 73,
   "metadata": {},
   "outputs": [
    {
     "data": {
      "image/png": "[encoded data removed]",
      "text/plain": [
       "<Figure size 432x288 with 1 Axes>"
      ]
     },
     "metadata": {},
     "output_type": "display_data"
    }
   ],
   "source": [
    "plt.plot(df['Adj. Close'])\n",
    "plt.plot(df['Forecast'])\n",
    "plt.legend(loc=4)\n",
    "plt.xlabel('Date')\n",
    "plt.ylabel('price')\n",
    "plt.show()"
   ]
  },
  {
   "cell_type": "markdown",
   "metadata": {},
   "source": [
    "### now we have graph of future prediction with >98 % accuracy which is really great. Means we are predictting values of stock in next 30 days with >98 % accuracy."
   ]
  },
  {
   "cell_type": "code",
   "execution_count": null,
   "metadata": {},
   "outputs": [],
   "source": []
  }
 ],
 "metadata": {
  "kernelspec": {
   "display_name": "Python 3",
   "language": "python",
   "name": "python3"
  },
  "language_info": {
   "codemirror_mode": {
    "name": "ipython",
    "version": 3
   },
   "file_extension": ".py",
   "mimetype": "text/x-python",
   "name": "python",
   "nbconvert_exporter": "python",
   "pygments_lexer": "ipython3",
   "version": "3.6.5"
  }
 },
 "nbformat": 4,
 "nbformat_minor": 1
}
