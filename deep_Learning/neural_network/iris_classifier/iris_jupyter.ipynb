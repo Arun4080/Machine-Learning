{
 "cells": [
  {
   "cell_type": "markdown",
   "metadata": {},
   "source": [
    "# iris Classification"
   ]
  },
  {
   "cell_type": "markdown",
   "metadata": {},
   "source": [
    "## libraries"
   ]
  },
  {
   "cell_type": "code",
   "execution_count": 53,
   "metadata": {},
   "outputs": [],
   "source": [
    "import numpy as np\n",
    "import pandas as pd\n",
    "from sklearn.model_selection import train_test_split\n",
    "from sklearn.utils import shuffle\n",
    "from sklearn.metrics import accuracy_score"
   ]
  },
  {
   "cell_type": "markdown",
   "metadata": {},
   "source": [
    "## Data Gathering"
   ]
  },
  {
   "cell_type": "code",
   "execution_count": 54,
   "metadata": {},
   "outputs": [],
   "source": [
    "names = ['sepal-length', 'sepal-width', 'petal-length', 'petal-width', 'class']\n",
    "#cat={'Iris-setosa':0,'Iris-versicolor':1,'Iris-virginica':2}\n",
    "a=pd.read_csv(\"data/iris.csv\", names=names)\n",
    "a = shuffle(a)\n",
    "#a['class']=[cat[i] for i in a['class']]\n",
    "dummies=pd.get_dummies(a)\n",
    "\n",
    "array=dummies.values\n",
    "x=array[:,:4]\n",
    "y=array[:,4:]\n",
    "validation_size=0.10\n",
    "seed=7\n",
    "X_train, X_test, Y_train, Y_test = train_test_split(x, y, test_size=validation_size, random_state=seed)"
   ]
  },
  {
   "cell_type": "markdown",
   "metadata": {},
   "source": [
    "## Building Neural network"
   ]
  },
  {
   "cell_type": "code",
   "execution_count": 50,
   "metadata": {},
   "outputs": [],
   "source": [
    "class Neural_Network(object):\n",
    "  def __init__(self):\n",
    "  #parameters\n",
    "    self.inputSize = 4\n",
    "    self.hl1Size = 10\n",
    "    self.hl2Size = 10\n",
    "    self.outputSize = 3\n",
    "\n",
    "  #weights\n",
    "    self.W1 = np.random.randn(self.inputSize, self.hl1Size) # (4*10) weight matrix from input to hidden layer 1\n",
    "    self.W2 = np.random.randn(self.hl1Size,self.hl2Size) #(10*10) weight matrix for hidden layer 1 to hidden layer 2\n",
    "    self.W3 = np.random.randn(self.hl2Size, self.outputSize) # (3x1) weight matrix from hidden layer 2 to output layer\n",
    "    self.b1=np.random.randn(self.hl1Size)\n",
    "    self.b2=np.random.randn(self.hl2Size)\n",
    "    self.b3=np.random.randn(self.outputSize)\n",
    "\n",
    "  def forward(self, X):\n",
    "    #forward propagation through our network\n",
    "    self.z = np.dot(X, self.W1)+self.b1 # dot product of X (input) and first set of weights and adding bias\n",
    "    self.hl1 = self.sigmoid(self.z) # activation function\n",
    "    \n",
    "    self.z2 = np.dot(self.hl1, self.W2)+self.b2 # dot product of hidden layer1 and second set of weights and adding bias\n",
    "    self.hl2 = self.sigmoid(self.z2) # activation function\n",
    "    \n",
    "    self.z3 = np.dot(self.hl2, self.W3)+self.b3 # dot product of hidden layer2 and third set of weights and adding bias\n",
    "    o = self.sigmoid(self.z3) # final activation function\n",
    "    \n",
    "    return o\n",
    "\n",
    "  def sigmoid(self, s):\n",
    "    # activation function\n",
    "    return 1/(1+np.exp(-s))\n",
    "\n",
    "  def sigmoidPrime(self, s):\n",
    "    #derivative of sigmoid\n",
    "    return s * (1 - s)\n",
    "\n",
    "  def backward(self, X, y, o):\n",
    "    # backward propagate through the network\n",
    "    self.o_error = y - o # error in output\n",
    "    self.o_delta = self.o_error*self.sigmoidPrime(o)\n",
    "\n",
    "    self.z3_error = self.o_delta.dot(self.W3.T)\n",
    "    self.z3_delta = self.z3_error*self.sigmoidPrime(self.hl2) \n",
    "    \n",
    "    self.z2_error = self.z3_delta.dot(self.W2.T) \n",
    "    self.z2_delta = self.z2_error*self.sigmoidPrime(self.hl1) \n",
    "\n",
    "    self.W1 += X.reshape(4,1).dot(self.z2_delta.reshape(1,10)) # adjusting first set (input --> hidden) weights\n",
    "    self.W2 += self.hl1.T.dot(self.z3_delta) # adjusting second set (hidden --> output) weights\n",
    "    self.W3 += self.hl2.reshape(10,1).dot(self.o_delta.reshape(1,3)) # adjusting second set (hidden --> output) weights\n",
    "\n",
    "  def train(self, X, y):\n",
    "    min,hw1,hw2,hw3,hb1,hb2,hb3=1,0,0,0,0,0,0\n",
    "    print(\"Before Training loss: \"+str(np.mean(np.square(y - self.forward(X)))))\n",
    "    for j in range(30):\n",
    "        avg_loss=[]\n",
    "        for i in range(len(X)):\n",
    "            o = self.forward(X[i])\n",
    "            self.backward(X[i], y[i], o)\n",
    "            l=np.mean(np.square(y - self.forward(X)))\n",
    "            avg_loss.append(l)\n",
    "            if min>l:\n",
    "                min=l\n",
    "                hw1,hb1=self.W1,self.b1\n",
    "                hw2,hb2=self.W2,self.b2\n",
    "                hw3,hb3=self.W3,self.b3\n",
    "        print(\"avg loss of \"+str(j)+\" loop is \" + str(np.mean(avg_loss)))\n",
    "              \n",
    "    print(\"min loss: \"+str(min))\n",
    "    self.W1,self.b1=hw1,hb1\n",
    "    self.W2,self.b2=hw2,hb2\n",
    "    self.W3,self.b3=hw3,hb3\n",
    "    print(\"After Training loss: \"+str(np.mean(np.square(y - self.forward(X)))))\n",
    "    \n",
    "\n",
    "  def predict(self,X):\n",
    "    return self.forward(X).round()\n",
    "\n"
   ]
  },
  {
   "cell_type": "code",
   "execution_count": 51,
   "metadata": {},
   "outputs": [
    {
     "name": "stdout",
     "output_type": "stream",
     "text": [
      "Before Training loss: 0.24948435252524534\n",
      "avg loss of 0 loop is 0.16971047157284264\n",
      "avg loss of 1 loop is 0.13964193646437836\n",
      "avg loss of 2 loop is 0.13138646170502263\n",
      "avg loss of 3 loop is 0.1290181026645146\n",
      "avg loss of 4 loop is 0.12784096105800632\n",
      "avg loss of 5 loop is 0.12456899653122225\n",
      "avg loss of 6 loop is 0.11966560567282171\n",
      "avg loss of 7 loop is 0.11549308202738806\n",
      "avg loss of 8 loop is 0.118438786129305\n",
      "avg loss of 9 loop is 0.10621433404512785\n",
      "avg loss of 10 loop is 0.1119075112944453\n",
      "avg loss of 11 loop is 0.10475557231947003\n",
      "avg loss of 12 loop is 0.0990661272518813\n",
      "avg loss of 13 loop is 0.08887351755464885\n",
      "avg loss of 14 loop is 0.10523635903049532\n",
      "avg loss of 15 loop is 0.08808216363760452\n",
      "avg loss of 16 loop is 0.0802398692199703\n",
      "avg loss of 17 loop is 0.07923843588575126\n",
      "avg loss of 18 loop is 0.07170862499373314\n",
      "avg loss of 19 loop is 0.07192554013069294\n",
      "avg loss of 20 loop is 0.06809234483290084\n",
      "avg loss of 21 loop is 0.0738464807890234\n",
      "avg loss of 22 loop is 0.0794073236018351\n",
      "avg loss of 23 loop is 0.07923343745343245\n",
      "avg loss of 24 loop is 0.06980099061222067\n",
      "avg loss of 25 loop is 0.07469011519797444\n",
      "avg loss of 26 loop is 0.07594873132808104\n",
      "avg loss of 27 loop is 0.07310843346454687\n",
      "avg loss of 28 loop is 0.079818627417597\n",
      "avg loss of 29 loop is 0.0772019088367599\n",
      "min loss: 0.018867759281002008\n",
      "After Training loss: 0.0734623930308603\n"
     ]
    }
   ],
   "source": [
    "NN = Neural_Network()\n",
    "NN.train(X_train,Y_train)"
   ]
  },
  {
   "cell_type": "code",
   "execution_count": 52,
   "metadata": {},
   "outputs": [
    {
     "name": "stdout",
     "output_type": "stream",
     "text": [
      "0.9333333333333333\n"
     ]
    }
   ],
   "source": [
    "predictions=NN.predict(X_test)\n",
    "print(accuracy_score(Y_test, predictions))"
   ]
  },
  {
   "cell_type": "code",
   "execution_count": null,
   "metadata": {},
   "outputs": [],
   "source": []
  },
  {
   "cell_type": "code",
   "execution_count": null,
   "metadata": {},
   "outputs": [],
   "source": []
  }
 ],
 "metadata": {
  "kernelspec": {
   "display_name": "Python 3",
   "language": "python",
   "name": "python3"
  },
  "language_info": {
   "codemirror_mode": {
    "name": "ipython",
    "version": 3
   },
   "file_extension": ".py",
   "mimetype": "text/x-python",
   "name": "python",
   "nbconvert_exporter": "python",
   "pygments_lexer": "ipython3",
   "version": "3.7.0"
  }
 },
 "nbformat": 4,
 "nbformat_minor": 2
}
