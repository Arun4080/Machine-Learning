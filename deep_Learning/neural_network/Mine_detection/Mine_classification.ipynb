{
 "cells": [
  {
   "cell_type": "markdown",
   "metadata": {},
   "source": [
    "# Classify mine from sonar data"
   ]
  },
  {
   "cell_type": "markdown",
   "metadata": {},
   "source": [
    "# Libraries"
   ]
  },
  {
   "cell_type": "code",
   "execution_count": 32,
   "metadata": {},
   "outputs": [],
   "source": [
    "import pandas as pd\n",
    "import numpy as np\n",
    "import tensorflow as tf\n",
    "#import matplotlib.pyplot as plt\n",
    "from sklearn.model_selection import train_test_split\n",
    "from sklearn.metrics import accuracy_score"
   ]
  },
  {
   "cell_type": "code",
   "execution_count": 68,
   "metadata": {},
   "outputs": [
    {
     "data": {
      "text/plain": [
       "(array([0.01  , 0.0194, 0.0155, 0.0489, 0.0839, 0.1009, 0.1627, 0.2071,\n",
       "        0.2696, 0.299 , 0.3242, 0.3565, 0.3951, 0.5201, 0.6953, 0.8468,\n",
       "        1.    , 0.9278, 0.851 , 0.801 , 0.8142, 0.8825, 0.7302, 0.6107,\n",
       "        0.7159, 0.8458, 0.6319, 0.4808, 0.6291, 0.7152, 0.6005, 0.4235,\n",
       "        0.4106, 0.3992, 0.173 , 0.1975, 0.237 , 0.1339, 0.1583, 0.3151,\n",
       "        0.1968, 0.2054, 0.1272, 0.1129, 0.1946, 0.2195, 0.193 , 0.1498,\n",
       "        0.0773, 0.0196, 0.0122, 0.013 , 0.0073, 0.0077, 0.0075, 0.006 ,\n",
       "        0.008 , 0.0019, 0.0053, 0.0019]), array([0, 1], dtype=uint8))"
      ]
     },
     "execution_count": 68,
     "metadata": {},
     "output_type": "execute_result"
    }
   ],
   "source": [
    "data=pd.read_csv('Sonar.csv')\n",
    "data=data.sample(frac=1)\n",
    "x=data.drop(['Class'],axis=1).values\n",
    "y=pd.get_dummies([str(i) for i in data['Class']]).values\n",
    "train_x,test_x,train_y,test_y= train_test_split(x,y,test_size=0.1)\n",
    "train_x[1],train_y[1]"
   ]
  },
  {
   "cell_type": "markdown",
   "metadata": {},
   "source": [
    "## Building ANN"
   ]
  },
  {
   "cell_type": "code",
   "execution_count": 157,
   "metadata": {},
   "outputs": [],
   "source": [
    "class Neural_Network(object):\n",
    "    \n",
    "  def assign(self,x,y):\n",
    "  #parameters\n",
    "    self.inputSize = x\n",
    "    self.hl1Size = 30\n",
    "    self.hl2Size = 30\n",
    "    self.outputSize = y\n",
    "\n",
    "  #weights\n",
    "    self.W1 = np.random.randn(self.inputSize, self.hl1Size) # (4*10) weight matrix from input to hidden layer 1\n",
    "    self.W2 = np.random.randn(self.hl1Size,self.hl2Size) #(10*10) weight matrix for hidden layer 1 to hidden layer 2\n",
    "    self.W3 = np.random.randn(self.hl2Size, self.outputSize) # (3x1) weight matrix from hidden layer 2 to output layer\n",
    "    self.b1=np.random.randn(self.hl1Size)\n",
    "    self.b2=np.random.randn(self.hl2Size)\n",
    "    self.b3=np.random.randn(self.outputSize)\n",
    "\n",
    "  def forward(self, X):\n",
    "    #forward propagation through our network\n",
    "    self.z = np.dot(X, self.W1)+self.b1 # dot product of X (input) and first set of weights and adding bias\n",
    "    self.hl1 = self.sigmoid(self.z) # activation function\n",
    "    \n",
    "    self.z2 = np.dot(self.hl1, self.W2)+self.b2 # dot product of hidden layer1 and second set of weights and adding bias\n",
    "    self.hl2 = self.sigmoid(self.z2) # activation function\n",
    "    \n",
    "    self.z3 = np.dot(self.hl2, self.W3)+self.b3 # dot product of hidden layer2 and third set of weights and adding bias\n",
    "    o = self.sigmoid(self.z3) # final activation function\n",
    "    \n",
    "    return o\n",
    "\n",
    "  def sigmoid(self, s):\n",
    "    # activation function\n",
    "    return 1/(1+np.exp(-s))\n",
    "\n",
    "  def sigmoidPrime(self, s):\n",
    "    #derivative of sigmoid\n",
    "    return s * (1 - s)\n",
    "\n",
    "  def backward(self, X, y, o):\n",
    "    # backward propagate through the network\n",
    "    self.o_error = y - o # error in output\n",
    "    self.o_delta = self.o_error*self.sigmoidPrime(o)\n",
    "\n",
    "    self.z3_error = self.o_delta.dot(self.W3.T)\n",
    "    self.z3_delta = self.z3_error*self.sigmoidPrime(self.hl2) \n",
    "    \n",
    "    self.z2_error = self.z3_delta.dot(self.W2.T) \n",
    "    self.z2_delta = self.z2_error*self.sigmoidPrime(self.hl1) \n",
    "\n",
    "    self.W1 += X.reshape(self.inputSize,1).dot(self.z2_delta.reshape(1,self.hl1Size)) # adjusting first set (input --> hidden) weights\n",
    "    self.W2 += self.hl1.reshape(self.hl1Size,1).dot(self.z3_delta.reshape(1,self.hl2Size)) # adjusting second set (hidden --> output) weights\n",
    "    self.W3 += self.hl2.reshape(self.hl2Size,1).dot(self.o_delta.reshape(1,self.outputSize)) # adjusting second set (hidden --> output) weights\n",
    "\n",
    "  def train(self, X, y, n=1,batch=50):\n",
    "    min,hw1,hw2,hw3,hb1,hb2,hb3=1,0,0,0,0,0,0\n",
    "    self.assign(len(X[0]),len(y[0]))\n",
    "    print(\"Before Training loss: \"+str(np.mean(np.square(y - self.forward(X)))))\n",
    "    for j in range(n):\n",
    "        for k in range(0,len(X),batch):\n",
    "            #if batch<len(X[k:]):\n",
    "            #    batch=len(X[k:])\n",
    "            avg_loss=[]\n",
    "            for i in range(k,k+batch):\n",
    "                o = self.forward(X[i])\n",
    "                self.backward(X[i], y[i], o)\n",
    "                l=np.mean(np.square(y - self.forward(X)))\n",
    "                avg_loss.append(l)\n",
    "                if min>l:\n",
    "                    min=l\n",
    "                    hw1,hb1=self.W1,self.b1\n",
    "                    hw2,hb2=self.W2,self.b2\n",
    "                    hw3,hb3=self.W3,self.b3\n",
    "            #print(\"avg loss of this batch is \" + str(np.mean(avg_loss)))\n",
    "              \n",
    "    print(\"min loss: \"+str(min))\n",
    "    self.W1,self.b1=hw1,hb1\n",
    "    self.W2,self.b2=hw2,hb2\n",
    "    self.W3,self.b3=hw3,hb3\n",
    "    print(\"After Training loss: \"+str(np.mean(np.square(y - self.forward(X)))))\n",
    "   \n",
    "  def predict(self,X):\n",
    "    return self.forward(X).round()\n"
   ]
  },
  {
   "cell_type": "code",
   "execution_count": 158,
   "metadata": {},
   "outputs": [
    {
     "name": "stdout",
     "output_type": "stream",
     "text": [
      "Before Training loss: 0.4087325057494607\n",
      "min loss: 0.01081110966054334\n",
      "After Training loss: 0.01081110966054334\n",
      "\n",
      "accuracy is 0.8571428571428571\n"
     ]
    }
   ],
   "source": [
    "NN=Neural_Network()\n",
    "NN.train(train_x,train_y,n=100,batch=187)\n",
    "prediction=NN.predict(test_x)\n",
    "print(\"\\naccuracy is \"+str(accuracy_score(test_y, prediction)))"
   ]
  },
  {
   "cell_type": "code",
   "execution_count": null,
   "metadata": {},
   "outputs": [],
   "source": []
  },
  {
   "cell_type": "code",
   "execution_count": null,
   "metadata": {},
   "outputs": [],
   "source": []
  }
 ],
 "metadata": {
  "kernelspec": {
   "display_name": "Python 3",
   "language": "python",
   "name": "python3"
  },
  "language_info": {
   "codemirror_mode": {
    "name": "ipython",
    "version": 3
   },
   "file_extension": ".py",
   "mimetype": "text/x-python",
   "name": "python",
   "nbconvert_exporter": "python",
   "pygments_lexer": "ipython3",
   "version": "3.6.5"
  }
 },
 "nbformat": 4,
 "nbformat_minor": 2
}
